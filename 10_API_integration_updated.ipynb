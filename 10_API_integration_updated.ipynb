{
  "nbformat": 4,
  "nbformat_minor": 0,
  "metadata": {
    "colab": {
      "provenance": [],
      "include_colab_link": true
    },
    "kernelspec": {
      "display_name": "Python 3",
      "name": "python3"
    }
  },
  "cells": [
    {
      "cell_type": "markdown",
      "metadata": {
        "id": "view-in-github",
        "colab_type": "text"
      },
      "source": [
        "<a href=\"https://colab.research.google.com/github/yutikavora/API_Integration_Python/blob/main/10_API_integration_updated.ipynb\" target=\"_parent\"><img src=\"https://colab.research.google.com/assets/colab-badge.svg\" alt=\"Open In Colab\"/></a>"
      ]
    },
    {
      "cell_type": "markdown",
      "metadata": {
        "id": "uzSwRAe1fQlz"
      },
      "source": [
        "* API stands for Application Programming Interface. Many web services, like YouTube,Google map and GitHub, make their data accessible to third-party applications through an application programming interface (API).\n",
        "* It is like a messenger that takes our requests to a system and returns a response back to us via seamless connectivity.\n",
        "* We use APIs in many cases like to get data for a web application or to connect to a remote server that has data like weather that keeps changing or to enable two applications to exchange data among each other.\n",
        "* API not only provide reusability of code but also uses the concept of Abstraction (showing functionality by hiding complexity).\n",
        "\n",
        "* example,\n",
        "Waiter in a restaurant taking your order request to the chef and bringing back the requested dish\n",
        "\n",
        "* Different APIs will communicate in different ways:\n",
        "\n",
        "  * XML-RCP/SOAP: Both uses XML\n",
        "  * JavaScript: Focused around Javascript\n",
        "  * RESTful APIs: HTTP protocol (HyperText Transfer Protocol) used (best for web APIs)\n",
        "\n",
        "\n",
        "* working of REST API:A request is send from client to server in the form of web URL as HTTP GET or POST or PUT or DELETE. After that a response  comes back from server in the form of resource which can be anything like HTML, XML, Image or JSON. But now JSON is the most popular format being used in Web Services.\n",
        "\n",
        "* In HTTP there are five methods which are commonly used in a REST based Architecture i.e., POST, GET, PUT(update a resource), PATCH(partial update a resource), and DELETE. These correspond to create, read, update, and delete (or CRUD) operations respectively.\n",
        "\n",
        "* Python provides some great tools not only to get data from REST APIs but also to build your own Python REST APIs. Much popular packages available for API integration in python is\n",
        "  * Flask : It is basically web application framework. Which can be used to create your own API.\n",
        "  * django: django is also used for web application designing. It is more powerfull than Flask\n",
        "  * Requests: To write code that interacts with REST APIs, most Python developers turn to *requests* to send HTTP requests.\n",
        "  * urllib: To send HTTP requests\n",
        "  \n"
      ]
    },
    {
      "cell_type": "markdown",
      "metadata": {
        "id": "EIoPYOJfn2Vg"
      },
      "source": [
        "**requests module**\n",
        "*   This module is used to interect with existing APIs\n",
        "*   We can perform get, put,list,post, patch, delete operations on exisitng APIs using this module\n",
        "\n"
      ]
    },
    {
      "cell_type": "code",
      "metadata": {
        "id": "n6AkExItsGNQ",
        "colab": {
          "base_uri": "https://localhost:8080/"
        },
        "outputId": "14fa8a6c-3a51-4cca-d04d-5ab07ed3f8e9"
      },
      "source": [
        "#Get method: to access data from API\n",
        "import requests\n",
        "api_url = \"https://jsonplaceholder.typicode.com/todos/1\"\n",
        "response = requests.get(api_url)\n",
        "response"
      ],
      "execution_count": null,
      "outputs": [
        {
          "output_type": "execute_result",
          "data": {
            "text/plain": [
              "<Response [200]>"
            ]
          },
          "metadata": {},
          "execution_count": 1
        }
      ]
    },
    {
      "cell_type": "code",
      "metadata": {
        "colab": {
          "base_uri": "https://localhost:8080/"
        },
        "id": "lMtdNvijpIrd",
        "outputId": "a45823ec-4d03-4f4c-bc86-c0102ae30a92"
      },
      "source": [
        "response.status_code"
      ],
      "execution_count": null,
      "outputs": [
        {
          "output_type": "execute_result",
          "data": {
            "text/plain": [
              "200"
            ]
          },
          "metadata": {},
          "execution_count": 2
        }
      ]
    },
    {
      "cell_type": "code",
      "metadata": {
        "colab": {
          "base_uri": "https://localhost:8080/"
        },
        "id": "N9dBg5m6sqJK",
        "outputId": "70e00249-97ab-4960-8a06-4f454a935274"
      },
      "source": [
        "response.content# Return the raw bytes of the data payload"
      ],
      "execution_count": null,
      "outputs": [
        {
          "output_type": "execute_result",
          "data": {
            "text/plain": [
              "b'{\\n  \"userId\": 1,\\n  \"id\": 1,\\n  \"title\": \"delectus aut autem\",\\n  \"completed\": false\\n}'"
            ]
          },
          "metadata": {},
          "execution_count": 3
        }
      ]
    },
    {
      "cell_type": "code",
      "metadata": {
        "colab": {
          "base_uri": "https://localhost:8080/",
          "height": 35
        },
        "id": "CRvWinl2suqa",
        "outputId": "46f2c43c-acea-428e-e3fe-1f0b3ea21efa"
      },
      "source": [
        "response.text # Return a string representation of the data payload\n"
      ],
      "execution_count": null,
      "outputs": [
        {
          "output_type": "execute_result",
          "data": {
            "text/plain": [
              "'{\\n  \"userId\": 1,\\n  \"id\": 1,\\n  \"title\": \"delectus aut autem\",\\n  \"completed\": false\\n}'"
            ],
            "application/vnd.google.colaboratory.intrinsic+json": {
              "type": "string"
            }
          },
          "metadata": {},
          "execution_count": 4
        }
      ]
    },
    {
      "cell_type": "code",
      "metadata": {
        "colab": {
          "base_uri": "https://localhost:8080/"
        },
        "id": "0ZFSjy64s4LA",
        "outputId": "fbde1d32-52b1-44bb-e9fb-31becdaf61fa"
      },
      "source": [
        "response.json() # This method is convenient when the API returns JSON"
      ],
      "execution_count": null,
      "outputs": [
        {
          "output_type": "execute_result",
          "data": {
            "text/plain": [
              "{'completed': False, 'id': 1, 'title': 'delectus aut autem', 'userId': 1}"
            ]
          },
          "metadata": {},
          "execution_count": 5
        }
      ]
    },
    {
      "cell_type": "markdown",
      "metadata": {
        "id": "6XvbvNvttC2V"
      },
      "source": [
        "**How to Use Query Parameters**\n",
        "\n",
        "Queries can be used to filter the data that an API returns, and these are added as query parameters that are appended to the endpoint URL. With Python Requests, this is handled via the params argument, which accepts a dictionary object"
      ]
    },
    {
      "cell_type": "code",
      "source": [
        "query = {'id':'2'}\n",
        "response = requests.get('https://jsonplaceholder.typicode.com/todos', params=query)\n",
        "print(response.json())"
      ],
      "metadata": {
        "colab": {
          "base_uri": "https://localhost:8080/"
        },
        "id": "mUm84zT-TgXy",
        "outputId": "8dcd4ae9-960f-43af-8d1b-84f97e0baa10"
      },
      "execution_count": null,
      "outputs": [
        {
          "output_type": "stream",
          "name": "stdout",
          "text": [
            "[{'userId': 1, 'id': 2, 'title': 'quis ut nam facilis et officia qui', 'completed': False}]\n"
          ]
        }
      ]
    },
    {
      "cell_type": "markdown",
      "metadata": {
        "id": "kSEb9W9Qt5ad"
      },
      "source": [
        "Post: It is used to create a new resource on url"
      ]
    },
    {
      "cell_type": "code",
      "metadata": {
        "colab": {
          "base_uri": "https://localhost:8080/"
        },
        "id": "HoZG8J0zs7eP",
        "outputId": "b8a00f53-38a4-41d3-c60b-eea0841489e7"
      },
      "source": [
        "api_url = \"https://jsonplaceholder.typicode.com/todos\"\n",
        "todo = {\"userId\": 1, \"title\": \"Buy milk\", \"completed\": False}\n",
        "response = requests.post(api_url, json=todo)\n",
        "print(response.json())"
      ],
      "execution_count": null,
      "outputs": [
        {
          "output_type": "stream",
          "name": "stdout",
          "text": [
            "{'userId': 1, 'title': 'Buy milk', 'completed': False, 'id': 201}\n"
          ]
        }
      ]
    },
    {
      "cell_type": "code",
      "metadata": {
        "colab": {
          "base_uri": "https://localhost:8080/"
        },
        "id": "1t_Mbo_lvuXf",
        "outputId": "3cdbabe9-7dc2-461f-a6dd-ac91bd8437a3"
      },
      "source": [
        "response.status_code"
      ],
      "execution_count": null,
      "outputs": [
        {
          "data": {
            "text/plain": [
              "201"
            ]
          },
          "execution_count": 40,
          "metadata": {},
          "output_type": "execute_result"
        }
      ]
    },
    {
      "cell_type": "markdown",
      "metadata": {
        "id": "d4DrClnPhwxy"
      },
      "source": [
        "Put: It is used to update existing resource"
      ]
    },
    {
      "cell_type": "code",
      "metadata": {
        "colab": {
          "base_uri": "https://localhost:8080/"
        },
        "id": "Vwb7TDGegVgK",
        "outputId": "c67b0afc-91f9-4fd4-a36d-8b8cc44fc0c7"
      },
      "source": [
        "import requests\n",
        "api_url = \"https://jsonplaceholder.typicode.com/todos/10\"\n",
        "response = requests.get(api_url)\n",
        "print(response.json())\n",
        "todo = {\"userId\": 1, \"title\": \"Wash car\", \"completed\": True}\n",
        "response = requests.put(api_url, json=todo)\n",
        "print(response.json())"
      ],
      "execution_count": null,
      "outputs": [
        {
          "name": "stdout",
          "output_type": "stream",
          "text": [
            "{'userId': 1, 'id': 10, 'title': 'illo est ratione doloremque quia maiores aut', 'completed': True}\n",
            "{'userId': 1, 'title': 'Wash car', 'completed': True, 'id': 10}\n"
          ]
        }
      ]
    },
    {
      "cell_type": "code",
      "metadata": {
        "colab": {
          "base_uri": "https://localhost:8080/"
        },
        "id": "u-4SCrE0gpyP",
        "outputId": "b6694ab4-904a-4e48-dc8f-bf479c71cc4a"
      },
      "source": [
        "response = requests.get(api_url)\n",
        "response.json()"
      ],
      "execution_count": null,
      "outputs": [
        {
          "data": {
            "text/plain": [
              "{'completed': True,\n",
              " 'id': 10,\n",
              " 'title': 'illo est ratione doloremque quia maiores aut',\n",
              " 'userId': 1}"
            ]
          },
          "execution_count": 16,
          "metadata": {},
          "output_type": "execute_result"
        }
      ]
    },
    {
      "cell_type": "code",
      "metadata": {
        "colab": {
          "base_uri": "https://localhost:8080/"
        },
        "id": "Qh_plBmWh4Ww",
        "outputId": "d2072a34-72a1-4f30-aea6-7b2b1dfd5d26"
      },
      "source": [
        "response.status_code"
      ],
      "execution_count": null,
      "outputs": [
        {
          "data": {
            "text/plain": [
              "200"
            ]
          },
          "execution_count": 20,
          "metadata": {},
          "output_type": "execute_result"
        }
      ]
    },
    {
      "cell_type": "markdown",
      "metadata": {
        "id": "VR_pTWBKh53I"
      },
      "source": [
        "*  requests.patch(): it is used to modify the value of a specific field on an existing todo. '\n",
        "* PATCH differs from PUT in that it doesn’t completely replace the existing resource.\n",
        "* It only modifies the values set in the JSON sent with the request"
      ]
    },
    {
      "cell_type": "code",
      "metadata": {
        "colab": {
          "base_uri": "https://localhost:8080/"
        },
        "id": "WMDHljxmiIvq",
        "outputId": "1b1e10ff-d6a1-4946-d2ab-e5f25f1f3188"
      },
      "source": [
        "api_url = \"https://jsonplaceholder.typicode.com/todos/11\"\n",
        "todo = {\"title\": \"Mow lawn\"}\n",
        "response = requests.get(api_url)\n",
        "print(response.json())\n",
        "response = requests.patch(api_url, json=todo)\n",
        "response.json()"
      ],
      "execution_count": null,
      "outputs": [
        {
          "name": "stdout",
          "output_type": "stream",
          "text": [
            "{'userId': 1, 'id': 11, 'title': 'vero rerum temporibus dolor', 'completed': True}\n"
          ]
        },
        {
          "data": {
            "text/plain": [
              "{'completed': True, 'id': 11, 'title': 'Mow lawn', 'userId': 1}"
            ]
          },
          "execution_count": 22,
          "metadata": {},
          "output_type": "execute_result"
        }
      ]
    },
    {
      "cell_type": "markdown",
      "metadata": {
        "id": "eQsSoKTqiuN8"
      },
      "source": [
        "* if you want to completely remove a resource, then you use DELETE. Here’s the code to remove a todo"
      ]
    },
    {
      "cell_type": "code",
      "metadata": {
        "colab": {
          "base_uri": "https://localhost:8080/"
        },
        "id": "dT6vW5E8ivZp",
        "outputId": "6084fdb1-e63a-476b-ee24-e9b5075b3550"
      },
      "source": [
        "api_url = \"https://jsonplaceholder.typicode.com/todos/10\"\n",
        "response = requests.delete(api_url)\n",
        "response.json()"
      ],
      "execution_count": null,
      "outputs": [
        {
          "data": {
            "text/plain": [
              "{}"
            ]
          },
          "execution_count": 23,
          "metadata": {},
          "output_type": "execute_result"
        }
      ]
    },
    {
      "cell_type": "markdown",
      "metadata": {
        "id": "sk18PSewjGEQ"
      },
      "source": [
        "#urllib3 module:\n",
        "*"
      ]
    },
    {
      "cell_type": "code",
      "metadata": {
        "colab": {
          "base_uri": "https://localhost:8080/"
        },
        "id": "BK9eQXcPllJQ",
        "outputId": "f82f6d9d-3dcd-4ff2-c0da-795e7cb5c83c"
      },
      "source": [
        "!pip install urllib3"
      ],
      "execution_count": null,
      "outputs": [
        {
          "name": "stdout",
          "output_type": "stream",
          "text": [
            "Requirement already satisfied: urllib3 in /usr/local/lib/python3.7/dist-packages (1.24.3)\n"
          ]
        }
      ]
    },
    {
      "cell_type": "code",
      "metadata": {
        "colab": {
          "base_uri": "https://localhost:8080/"
        },
        "id": "MzlAX74nloKE",
        "outputId": "b2142236-463d-421c-df4f-9e226e3e44ee"
      },
      "source": [
        "import urllib3\n",
        "\n",
        "print(urllib3.__version__)"
      ],
      "execution_count": null,
      "outputs": [
        {
          "name": "stdout",
          "output_type": "stream",
          "text": [
            "1.24.3\n"
          ]
        }
      ]
    },
    {
      "cell_type": "code",
      "metadata": {
        "colab": {
          "base_uri": "https://localhost:8080/"
        },
        "id": "6_8ZGyZIl1JY",
        "outputId": "61fce8b2-c4ff-459b-c297-d1fed5509c28"
      },
      "source": [
        "#To send requests using urllib3, we use an instance of the PoolManager class, which takes care of the actual requests for us\n",
        "http = urllib3.PoolManager()\n",
        "\n",
        "response = http.request(\"GET\", \"http://www.stackabuse.com\")\n",
        "print(response.status)"
      ],
      "execution_count": null,
      "outputs": [
        {
          "name": "stderr",
          "output_type": "stream",
          "text": [
            "/usr/local/lib/python3.7/dist-packages/urllib3/connectionpool.py:847: InsecureRequestWarning: Unverified HTTPS request is being made. Adding certificate verification is strongly advised. See: https://urllib3.readthedocs.io/en/latest/advanced-usage.html#ssl-warnings\n",
            "  InsecureRequestWarning)\n"
          ]
        },
        {
          "name": "stdout",
          "output_type": "stream",
          "text": [
            "200\n"
          ]
        }
      ]
    },
    {
      "cell_type": "markdown",
      "metadata": {
        "id": "fNme38FumpCW"
      },
      "source": [
        "A Connection Pool is a cache of connections that can be reused when needed in future requests, used to improve performance when executing certain commands numerous times. Similarly enough - when sending various requests, a Connection Pool is made so certain connections can be reused."
      ]
    },
    {
      "cell_type": "code",
      "metadata": {
        "colab": {
          "base_uri": "https://localhost:8080/"
        },
        "id": "mAdBgWZlm1B5",
        "outputId": "4e81ef20-c5eb-4558-95d9-f5f799621e52"
      },
      "source": [
        "http = urllib3.PoolManager()\n",
        "\n",
        "response = http.request(\"GET\", \"http://jsonplaceholder.typicode.com/posts/\")\n",
        "\n",
        "print(response.data.decode(\"utf-8\"))"
      ],
      "execution_count": null,
      "outputs": [
        {
          "name": "stdout",
          "output_type": "stream",
          "text": [
            "[\n",
            "  {\n",
            "    \"userId\": 1,\n",
            "    \"id\": 1,\n",
            "    \"title\": \"sunt aut facere repellat provident occaecati excepturi optio reprehenderit\",\n",
            "    \"body\": \"quia et suscipit\\nsuscipit recusandae consequuntur expedita et cum\\nreprehenderit molestiae ut ut quas totam\\nnostrum rerum est autem sunt rem eveniet architecto\"\n",
            "  },\n",
            "  {\n",
            "    \"userId\": 1,\n",
            "    \"id\": 2,\n",
            "    \"title\": \"qui est esse\",\n",
            "    \"body\": \"est rerum tempore vitae\\nsequi sint nihil reprehenderit dolor beatae ea dolores neque\\nfugiat blanditiis voluptate porro vel nihil molestiae ut reiciendis\\nqui aperiam non debitis possimus qui neque nisi nulla\"\n",
            "  },\n",
            "  {\n",
            "    \"userId\": 1,\n",
            "    \"id\": 3,\n",
            "    \"title\": \"ea molestias quasi exercitationem repellat qui ipsa sit aut\",\n",
            "    \"body\": \"et iusto sed quo iure\\nvoluptatem occaecati omnis eligendi aut ad\\nvoluptatem doloribus vel accusantium quis pariatur\\nmolestiae porro eius odio et labore et velit aut\"\n",
            "  },\n",
            "  {\n",
            "    \"userId\": 1,\n",
            "    \"id\": 4,\n",
            "    \"title\": \"eum et est occaecati\",\n",
            "    \"body\": \"ullam et saepe reiciendis voluptatem adipisci\\nsit amet autem assumenda provident rerum culpa\\nquis hic commodi nesciunt rem tenetur doloremque ipsam iure\\nquis sunt voluptatem rerum illo velit\"\n",
            "  },\n",
            "  {\n",
            "    \"userId\": 1,\n",
            "    \"id\": 5,\n",
            "    \"title\": \"nesciunt quas odio\",\n",
            "    \"body\": \"repudiandae veniam quaerat sunt sed\\nalias aut fugiat sit autem sed est\\nvoluptatem omnis possimus esse voluptatibus quis\\nest aut tenetur dolor neque\"\n",
            "  },\n",
            "  {\n",
            "    \"userId\": 1,\n",
            "    \"id\": 6,\n",
            "    \"title\": \"dolorem eum magni eos aperiam quia\",\n",
            "    \"body\": \"ut aspernatur corporis harum nihil quis provident sequi\\nmollitia nobis aliquid molestiae\\nperspiciatis et ea nemo ab reprehenderit accusantium quas\\nvoluptate dolores velit et doloremque molestiae\"\n",
            "  },\n",
            "  {\n",
            "    \"userId\": 1,\n",
            "    \"id\": 7,\n",
            "    \"title\": \"magnam facilis autem\",\n",
            "    \"body\": \"dolore placeat quibusdam ea quo vitae\\nmagni quis enim qui quis quo nemo aut saepe\\nquidem repellat excepturi ut quia\\nsunt ut sequi eos ea sed quas\"\n",
            "  },\n",
            "  {\n",
            "    \"userId\": 1,\n",
            "    \"id\": 8,\n",
            "    \"title\": \"dolorem dolore est ipsam\",\n",
            "    \"body\": \"dignissimos aperiam dolorem qui eum\\nfacilis quibusdam animi sint suscipit qui sint possimus cum\\nquaerat magni maiores excepturi\\nipsam ut commodi dolor voluptatum modi aut vitae\"\n",
            "  },\n",
            "  {\n",
            "    \"userId\": 1,\n",
            "    \"id\": 9,\n",
            "    \"title\": \"nesciunt iure omnis dolorem tempora et accusantium\",\n",
            "    \"body\": \"consectetur animi nesciunt iure dolore\\nenim quia ad\\nveniam autem ut quam aut nobis\\net est aut quod aut provident voluptas autem voluptas\"\n",
            "  },\n",
            "  {\n",
            "    \"userId\": 1,\n",
            "    \"id\": 10,\n",
            "    \"title\": \"optio molestias id quia eum\",\n",
            "    \"body\": \"quo et expedita modi cum officia vel magni\\ndoloribus qui repudiandae\\nvero nisi sit\\nquos veniam quod sed accusamus veritatis error\"\n",
            "  },\n",
            "  {\n",
            "    \"userId\": 2,\n",
            "    \"id\": 11,\n",
            "    \"title\": \"et ea vero quia laudantium autem\",\n",
            "    \"body\": \"delectus reiciendis molestiae occaecati non minima eveniet qui voluptatibus\\naccusamus in eum beatae sit\\nvel qui neque voluptates ut commodi qui incidunt\\nut animi commodi\"\n",
            "  },\n",
            "  {\n",
            "    \"userId\": 2,\n",
            "    \"id\": 12,\n",
            "    \"title\": \"in quibusdam tempore odit est dolorem\",\n",
            "    \"body\": \"itaque id aut magnam\\npraesentium quia et ea odit et ea voluptas et\\nsapiente quia nihil amet occaecati quia id voluptatem\\nincidunt ea est distinctio odio\"\n",
            "  },\n",
            "  {\n",
            "    \"userId\": 2,\n",
            "    \"id\": 13,\n",
            "    \"title\": \"dolorum ut in voluptas mollitia et saepe quo animi\",\n",
            "    \"body\": \"aut dicta possimus sint mollitia voluptas commodi quo doloremque\\niste corrupti reiciendis voluptatem eius rerum\\nsit cumque quod eligendi laborum minima\\nperferendis recusandae assumenda consectetur porro architecto ipsum ipsam\"\n",
            "  },\n",
            "  {\n",
            "    \"userId\": 2,\n",
            "    \"id\": 14,\n",
            "    \"title\": \"voluptatem eligendi optio\",\n",
            "    \"body\": \"fuga et accusamus dolorum perferendis illo voluptas\\nnon doloremque neque facere\\nad qui dolorum molestiae beatae\\nsed aut voluptas totam sit illum\"\n",
            "  },\n",
            "  {\n",
            "    \"userId\": 2,\n",
            "    \"id\": 15,\n",
            "    \"title\": \"eveniet quod temporibus\",\n",
            "    \"body\": \"reprehenderit quos placeat\\nvelit minima officia dolores impedit repudiandae molestiae nam\\nvoluptas recusandae quis delectus\\nofficiis harum fugiat vitae\"\n",
            "  },\n",
            "  {\n",
            "    \"userId\": 2,\n",
            "    \"id\": 16,\n",
            "    \"title\": \"sint suscipit perspiciatis velit dolorum rerum ipsa laboriosam odio\",\n",
            "    \"body\": \"suscipit nam nisi quo aperiam aut\\nasperiores eos fugit maiores voluptatibus quia\\nvoluptatem quis ullam qui in alias quia est\\nconsequatur magni mollitia accusamus ea nisi voluptate dicta\"\n",
            "  },\n",
            "  {\n",
            "    \"userId\": 2,\n",
            "    \"id\": 17,\n",
            "    \"title\": \"fugit voluptas sed molestias voluptatem provident\",\n",
            "    \"body\": \"eos voluptas et aut odit natus earum\\naspernatur fuga molestiae ullam\\ndeserunt ratione qui eos\\nqui nihil ratione nemo velit ut aut id quo\"\n",
            "  },\n",
            "  {\n",
            "    \"userId\": 2,\n",
            "    \"id\": 18,\n",
            "    \"title\": \"voluptate et itaque vero tempora molestiae\",\n",
            "    \"body\": \"eveniet quo quis\\nlaborum totam consequatur non dolor\\nut et est repudiandae\\nest voluptatem vel debitis et magnam\"\n",
            "  },\n",
            "  {\n",
            "    \"userId\": 2,\n",
            "    \"id\": 19,\n",
            "    \"title\": \"adipisci placeat illum aut reiciendis qui\",\n",
            "    \"body\": \"illum quis cupiditate provident sit magnam\\nea sed aut omnis\\nveniam maiores ullam consequatur atque\\nadipisci quo iste expedita sit quos voluptas\"\n",
            "  },\n",
            "  {\n",
            "    \"userId\": 2,\n",
            "    \"id\": 20,\n",
            "    \"title\": \"doloribus ad provident suscipit at\",\n",
            "    \"body\": \"qui consequuntur ducimus possimus quisquam amet similique\\nsuscipit porro ipsam amet\\neos veritatis officiis exercitationem vel fugit aut necessitatibus totam\\nomnis rerum consequatur expedita quidem cumque explicabo\"\n",
            "  },\n",
            "  {\n",
            "    \"userId\": 3,\n",
            "    \"id\": 21,\n",
            "    \"title\": \"asperiores ea ipsam voluptatibus modi minima quia sint\",\n",
            "    \"body\": \"repellat aliquid praesentium dolorem quo\\nsed totam minus non itaque\\nnihil labore molestiae sunt dolor eveniet hic recusandae veniam\\ntempora et tenetur expedita sunt\"\n",
            "  },\n",
            "  {\n",
            "    \"userId\": 3,\n",
            "    \"id\": 22,\n",
            "    \"title\": \"dolor sint quo a velit explicabo quia nam\",\n",
            "    \"body\": \"eos qui et ipsum ipsam suscipit aut\\nsed omnis non odio\\nexpedita earum mollitia molestiae aut atque rem suscipit\\nnam impedit esse\"\n",
            "  },\n",
            "  {\n",
            "    \"userId\": 3,\n",
            "    \"id\": 23,\n",
            "    \"title\": \"maxime id vitae nihil numquam\",\n",
            "    \"body\": \"veritatis unde neque eligendi\\nquae quod architecto quo neque vitae\\nest illo sit tempora doloremque fugit quod\\net et vel beatae sequi ullam sed tenetur perspiciatis\"\n",
            "  },\n",
            "  {\n",
            "    \"userId\": 3,\n",
            "    \"id\": 24,\n",
            "    \"title\": \"autem hic labore sunt dolores incidunt\",\n",
            "    \"body\": \"enim et ex nulla\\nomnis voluptas quia qui\\nvoluptatem consequatur numquam aliquam sunt\\ntotam recusandae id dignissimos aut sed asperiores deserunt\"\n",
            "  },\n",
            "  {\n",
            "    \"userId\": 3,\n",
            "    \"id\": 25,\n",
            "    \"title\": \"rem alias distinctio quo quis\",\n",
            "    \"body\": \"ullam consequatur ut\\nomnis quis sit vel consequuntur\\nipsa eligendi ipsum molestiae et omnis error nostrum\\nmolestiae illo tempore quia et distinctio\"\n",
            "  },\n",
            "  {\n",
            "    \"userId\": 3,\n",
            "    \"id\": 26,\n",
            "    \"title\": \"est et quae odit qui non\",\n",
            "    \"body\": \"similique esse doloribus nihil accusamus\\nomnis dolorem fuga consequuntur reprehenderit fugit recusandae temporibus\\nperspiciatis cum ut laudantium\\nomnis aut molestiae vel vero\"\n",
            "  },\n",
            "  {\n",
            "    \"userId\": 3,\n",
            "    \"id\": 27,\n",
            "    \"title\": \"quasi id et eos tenetur aut quo autem\",\n",
            "    \"body\": \"eum sed dolores ipsam sint possimus debitis occaecati\\ndebitis qui qui et\\nut placeat enim earum aut odit facilis\\nconsequatur suscipit necessitatibus rerum sed inventore temporibus consequatur\"\n",
            "  },\n",
            "  {\n",
            "    \"userId\": 3,\n",
            "    \"id\": 28,\n",
            "    \"title\": \"delectus ullam et corporis nulla voluptas sequi\",\n",
            "    \"body\": \"non et quaerat ex quae ad maiores\\nmaiores recusandae totam aut blanditiis mollitia quas illo\\nut voluptatibus voluptatem\\nsimilique nostrum eum\"\n",
            "  },\n",
            "  {\n",
            "    \"userId\": 3,\n",
            "    \"id\": 29,\n",
            "    \"title\": \"iusto eius quod necessitatibus culpa ea\",\n",
            "    \"body\": \"odit magnam ut saepe sed non qui\\ntempora atque nihil\\naccusamus illum doloribus illo dolor\\neligendi repudiandae odit magni similique sed cum maiores\"\n",
            "  },\n",
            "  {\n",
            "    \"userId\": 3,\n",
            "    \"id\": 30,\n",
            "    \"title\": \"a quo magni similique perferendis\",\n",
            "    \"body\": \"alias dolor cumque\\nimpedit blanditiis non eveniet odio maxime\\nblanditiis amet eius quis tempora quia autem rem\\na provident perspiciatis quia\"\n",
            "  },\n",
            "  {\n",
            "    \"userId\": 4,\n",
            "    \"id\": 31,\n",
            "    \"title\": \"ullam ut quidem id aut vel consequuntur\",\n",
            "    \"body\": \"debitis eius sed quibusdam non quis consectetur vitae\\nimpedit ut qui consequatur sed aut in\\nquidem sit nostrum et maiores adipisci atque\\nquaerat voluptatem adipisci repudiandae\"\n",
            "  },\n",
            "  {\n",
            "    \"userId\": 4,\n",
            "    \"id\": 32,\n",
            "    \"title\": \"doloremque illum aliquid sunt\",\n",
            "    \"body\": \"deserunt eos nobis asperiores et hic\\nest debitis repellat molestiae optio\\nnihil ratione ut eos beatae quibusdam distinctio maiores\\nearum voluptates et aut adipisci ea maiores voluptas maxime\"\n",
            "  },\n",
            "  {\n",
            "    \"userId\": 4,\n",
            "    \"id\": 33,\n",
            "    \"title\": \"qui explicabo molestiae dolorem\",\n",
            "    \"body\": \"rerum ut et numquam laborum odit est sit\\nid qui sint in\\nquasi tenetur tempore aperiam et quaerat qui in\\nrerum officiis sequi cumque quod\"\n",
            "  },\n",
            "  {\n",
            "    \"userId\": 4,\n",
            "    \"id\": 34,\n",
            "    \"title\": \"magnam ut rerum iure\",\n",
            "    \"body\": \"ea velit perferendis earum ut voluptatem voluptate itaque iusto\\ntotam pariatur in\\nnemo voluptatem voluptatem autem magni tempora minima in\\nest distinctio qui assumenda accusamus dignissimos officia nesciunt nobis\"\n",
            "  },\n",
            "  {\n",
            "    \"userId\": 4,\n",
            "    \"id\": 35,\n",
            "    \"title\": \"id nihil consequatur molestias animi provident\",\n",
            "    \"body\": \"nisi error delectus possimus ut eligendi vitae\\nplaceat eos harum cupiditate facilis reprehenderit voluptatem beatae\\nmodi ducimus quo illum voluptas eligendi\\net nobis quia fugit\"\n",
            "  },\n",
            "  {\n",
            "    \"userId\": 4,\n",
            "    \"id\": 36,\n",
            "    \"title\": \"fuga nam accusamus voluptas reiciendis itaque\",\n",
            "    \"body\": \"ad mollitia et omnis minus architecto odit\\nvoluptas doloremque maxime aut non ipsa qui alias veniam\\nblanditiis culpa aut quia nihil cumque facere et occaecati\\nqui aspernatur quia eaque ut aperiam inventore\"\n",
            "  },\n",
            "  {\n",
            "    \"userId\": 4,\n",
            "    \"id\": 37,\n",
            "    \"title\": \"provident vel ut sit ratione est\",\n",
            "    \"body\": \"debitis et eaque non officia sed nesciunt pariatur vel\\nvoluptatem iste vero et ea\\nnumquam aut expedita ipsum nulla in\\nvoluptates omnis consequatur aut enim officiis in quam qui\"\n",
            "  },\n",
            "  {\n",
            "    \"userId\": 4,\n",
            "    \"id\": 38,\n",
            "    \"title\": \"explicabo et eos deleniti nostrum ab id repellendus\",\n",
            "    \"body\": \"animi esse sit aut sit nesciunt assumenda eum voluptas\\nquia voluptatibus provident quia necessitatibus ea\\nrerum repudiandae quia voluptatem delectus fugit aut id quia\\nratione optio eos iusto veniam iure\"\n",
            "  },\n",
            "  {\n",
            "    \"userId\": 4,\n",
            "    \"id\": 39,\n",
            "    \"title\": \"eos dolorem iste accusantium est eaque quam\",\n",
            "    \"body\": \"corporis rerum ducimus vel eum accusantium\\nmaxime aspernatur a porro possimus iste omnis\\nest in deleniti asperiores fuga aut\\nvoluptas sapiente vel dolore minus voluptatem incidunt ex\"\n",
            "  },\n",
            "  {\n",
            "    \"userId\": 4,\n",
            "    \"id\": 40,\n",
            "    \"title\": \"enim quo cumque\",\n",
            "    \"body\": \"ut voluptatum aliquid illo tenetur nemo sequi quo facilis\\nipsum rem optio mollitia quas\\nvoluptatem eum voluptas qui\\nunde omnis voluptatem iure quasi maxime voluptas nam\"\n",
            "  },\n",
            "  {\n",
            "    \"userId\": 5,\n",
            "    \"id\": 41,\n",
            "    \"title\": \"non est facere\",\n",
            "    \"body\": \"molestias id nostrum\\nexcepturi molestiae dolore omnis repellendus quaerat saepe\\nconsectetur iste quaerat tenetur asperiores accusamus ex ut\\nnam quidem est ducimus sunt debitis saepe\"\n",
            "  },\n",
            "  {\n",
            "    \"userId\": 5,\n",
            "    \"id\": 42,\n",
            "    \"title\": \"commodi ullam sint et excepturi error explicabo praesentium voluptas\",\n",
            "    \"body\": \"odio fugit voluptatum ducimus earum autem est incidunt voluptatem\\nodit reiciendis aliquam sunt sequi nulla dolorem\\nnon facere repellendus voluptates quia\\nratione harum vitae ut\"\n",
            "  },\n",
            "  {\n",
            "    \"userId\": 5,\n",
            "    \"id\": 43,\n",
            "    \"title\": \"eligendi iste nostrum consequuntur adipisci praesentium sit beatae perferendis\",\n",
            "    \"body\": \"similique fugit est\\nillum et dolorum harum et voluptate eaque quidem\\nexercitationem quos nam commodi possimus cum odio nihil nulla\\ndolorum exercitationem magnam ex et a et distinctio debitis\"\n",
            "  },\n",
            "  {\n",
            "    \"userId\": 5,\n",
            "    \"id\": 44,\n",
            "    \"title\": \"optio dolor molestias sit\",\n",
            "    \"body\": \"temporibus est consectetur dolore\\net libero debitis vel velit laboriosam quia\\nipsum quibusdam qui itaque fuga rem aut\\nea et iure quam sed maxime ut distinctio quae\"\n",
            "  },\n",
            "  {\n",
            "    \"userId\": 5,\n",
            "    \"id\": 45,\n",
            "    \"title\": \"ut numquam possimus omnis eius suscipit laudantium iure\",\n",
            "    \"body\": \"est natus reiciendis nihil possimus aut provident\\nex et dolor\\nrepellat pariatur est\\nnobis rerum repellendus dolorem autem\"\n",
            "  },\n",
            "  {\n",
            "    \"userId\": 5,\n",
            "    \"id\": 46,\n",
            "    \"title\": \"aut quo modi neque nostrum ducimus\",\n",
            "    \"body\": \"voluptatem quisquam iste\\nvoluptatibus natus officiis facilis dolorem\\nquis quas ipsam\\nvel et voluptatum in aliquid\"\n",
            "  },\n",
            "  {\n",
            "    \"userId\": 5,\n",
            "    \"id\": 47,\n",
            "    \"title\": \"quibusdam cumque rem aut deserunt\",\n",
            "    \"body\": \"voluptatem assumenda ut qui ut cupiditate aut impedit veniam\\noccaecati nemo illum voluptatem laudantium\\nmolestiae beatae rerum ea iure soluta nostrum\\neligendi et voluptate\"\n",
            "  },\n",
            "  {\n",
            "    \"userId\": 5,\n",
            "    \"id\": 48,\n",
            "    \"title\": \"ut voluptatem illum ea doloribus itaque eos\",\n",
            "    \"body\": \"voluptates quo voluptatem facilis iure occaecati\\nvel assumenda rerum officia et\\nillum perspiciatis ab deleniti\\nlaudantium repellat ad ut et autem reprehenderit\"\n",
            "  },\n",
            "  {\n",
            "    \"userId\": 5,\n",
            "    \"id\": 49,\n",
            "    \"title\": \"laborum non sunt aut ut assumenda perspiciatis voluptas\",\n",
            "    \"body\": \"inventore ab sint\\nnatus fugit id nulla sequi architecto nihil quaerat\\neos tenetur in in eum veritatis non\\nquibusdam officiis aspernatur cumque aut commodi aut\"\n",
            "  },\n",
            "  {\n",
            "    \"userId\": 5,\n",
            "    \"id\": 50,\n",
            "    \"title\": \"repellendus qui recusandae incidunt voluptates tenetur qui omnis exercitationem\",\n",
            "    \"body\": \"error suscipit maxime adipisci consequuntur recusandae\\nvoluptas eligendi et est et voluptates\\nquia distinctio ab amet quaerat molestiae et vitae\\nadipisci impedit sequi nesciunt quis consectetur\"\n",
            "  },\n",
            "  {\n",
            "    \"userId\": 6,\n",
            "    \"id\": 51,\n",
            "    \"title\": \"soluta aliquam aperiam consequatur illo quis voluptas\",\n",
            "    \"body\": \"sunt dolores aut doloribus\\ndolore doloribus voluptates tempora et\\ndoloremque et quo\\ncum asperiores sit consectetur dolorem\"\n",
            "  },\n",
            "  {\n",
            "    \"userId\": 6,\n",
            "    \"id\": 52,\n",
            "    \"title\": \"qui enim et consequuntur quia animi quis voluptate quibusdam\",\n",
            "    \"body\": \"iusto est quibusdam fuga quas quaerat molestias\\na enim ut sit accusamus enim\\ntemporibus iusto accusantium provident architecto\\nsoluta esse reprehenderit qui laborum\"\n",
            "  },\n",
            "  {\n",
            "    \"userId\": 6,\n",
            "    \"id\": 53,\n",
            "    \"title\": \"ut quo aut ducimus alias\",\n",
            "    \"body\": \"minima harum praesentium eum rerum illo dolore\\nquasi exercitationem rerum nam\\nporro quis neque quo\\nconsequatur minus dolor quidem veritatis sunt non explicabo similique\"\n",
            "  },\n",
            "  {\n",
            "    \"userId\": 6,\n",
            "    \"id\": 54,\n",
            "    \"title\": \"sit asperiores ipsam eveniet odio non quia\",\n",
            "    \"body\": \"totam corporis dignissimos\\nvitae dolorem ut occaecati accusamus\\nex velit deserunt\\net exercitationem vero incidunt corrupti mollitia\"\n",
            "  },\n",
            "  {\n",
            "    \"userId\": 6,\n",
            "    \"id\": 55,\n",
            "    \"title\": \"sit vel voluptatem et non libero\",\n",
            "    \"body\": \"debitis excepturi ea perferendis harum libero optio\\neos accusamus cum fuga ut sapiente repudiandae\\net ut incidunt omnis molestiae\\nnihil ut eum odit\"\n",
            "  },\n",
            "  {\n",
            "    \"userId\": 6,\n",
            "    \"id\": 56,\n",
            "    \"title\": \"qui et at rerum necessitatibus\",\n",
            "    \"body\": \"aut est omnis dolores\\nneque rerum quod ea rerum velit pariatur beatae excepturi\\net provident voluptas corrupti\\ncorporis harum reprehenderit dolores eligendi\"\n",
            "  },\n",
            "  {\n",
            "    \"userId\": 6,\n",
            "    \"id\": 57,\n",
            "    \"title\": \"sed ab est est\",\n",
            "    \"body\": \"at pariatur consequuntur earum quidem\\nquo est laudantium soluta voluptatem\\nqui ullam et est\\net cum voluptas voluptatum repellat est\"\n",
            "  },\n",
            "  {\n",
            "    \"userId\": 6,\n",
            "    \"id\": 58,\n",
            "    \"title\": \"voluptatum itaque dolores nisi et quasi\",\n",
            "    \"body\": \"veniam voluptatum quae adipisci id\\net id quia eos ad et dolorem\\naliquam quo nisi sunt eos impedit error\\nad similique veniam\"\n",
            "  },\n",
            "  {\n",
            "    \"userId\": 6,\n",
            "    \"id\": 59,\n",
            "    \"title\": \"qui commodi dolor at maiores et quis id accusantium\",\n",
            "    \"body\": \"perspiciatis et quam ea autem temporibus non voluptatibus qui\\nbeatae a earum officia nesciunt dolores suscipit voluptas et\\nanimi doloribus cum rerum quas et magni\\net hic ut ut commodi expedita sunt\"\n",
            "  },\n",
            "  {\n",
            "    \"userId\": 6,\n",
            "    \"id\": 60,\n",
            "    \"title\": \"consequatur placeat omnis quisquam quia reprehenderit fugit veritatis facere\",\n",
            "    \"body\": \"asperiores sunt ab assumenda cumque modi velit\\nqui esse omnis\\nvoluptate et fuga perferendis voluptas\\nillo ratione amet aut et omnis\"\n",
            "  },\n",
            "  {\n",
            "    \"userId\": 7,\n",
            "    \"id\": 61,\n",
            "    \"title\": \"voluptatem doloribus consectetur est ut ducimus\",\n",
            "    \"body\": \"ab nemo optio odio\\ndelectus tenetur corporis similique nobis repellendus rerum omnis facilis\\nvero blanditiis debitis in nesciunt doloribus dicta dolores\\nmagnam minus velit\"\n",
            "  },\n",
            "  {\n",
            "    \"userId\": 7,\n",
            "    \"id\": 62,\n",
            "    \"title\": \"beatae enim quia vel\",\n",
            "    \"body\": \"enim aspernatur illo distinctio quae praesentium\\nbeatae alias amet delectus qui voluptate distinctio\\nodit sint accusantium autem omnis\\nquo molestiae omnis ea eveniet optio\"\n",
            "  },\n",
            "  {\n",
            "    \"userId\": 7,\n",
            "    \"id\": 63,\n",
            "    \"title\": \"voluptas blanditiis repellendus animi ducimus error sapiente et suscipit\",\n",
            "    \"body\": \"enim adipisci aspernatur nemo\\nnumquam omnis facere dolorem dolor ex quis temporibus incidunt\\nab delectus culpa quo reprehenderit blanditiis asperiores\\naccusantium ut quam in voluptatibus voluptas ipsam dicta\"\n",
            "  },\n",
            "  {\n",
            "    \"userId\": 7,\n",
            "    \"id\": 64,\n",
            "    \"title\": \"et fugit quas eum in in aperiam quod\",\n",
            "    \"body\": \"id velit blanditiis\\neum ea voluptatem\\nmolestiae sint occaecati est eos perspiciatis\\nincidunt a error provident eaque aut aut qui\"\n",
            "  },\n",
            "  {\n",
            "    \"userId\": 7,\n",
            "    \"id\": 65,\n",
            "    \"title\": \"consequatur id enim sunt et et\",\n",
            "    \"body\": \"voluptatibus ex esse\\nsint explicabo est aliquid cumque adipisci fuga repellat labore\\nmolestiae corrupti ex saepe at asperiores et perferendis\\nnatus id esse incidunt pariatur\"\n",
            "  },\n",
            "  {\n",
            "    \"userId\": 7,\n",
            "    \"id\": 66,\n",
            "    \"title\": \"repudiandae ea animi iusto\",\n",
            "    \"body\": \"officia veritatis tenetur vero qui itaque\\nsint non ratione\\nsed et ut asperiores iusto eos molestiae nostrum\\nveritatis quibusdam et nemo iusto saepe\"\n",
            "  },\n",
            "  {\n",
            "    \"userId\": 7,\n",
            "    \"id\": 67,\n",
            "    \"title\": \"aliquid eos sed fuga est maxime repellendus\",\n",
            "    \"body\": \"reprehenderit id nostrum\\nvoluptas doloremque pariatur sint et accusantium quia quod aspernatur\\net fugiat amet\\nnon sapiente et consequatur necessitatibus molestiae\"\n",
            "  },\n",
            "  {\n",
            "    \"userId\": 7,\n",
            "    \"id\": 68,\n",
            "    \"title\": \"odio quis facere architecto reiciendis optio\",\n",
            "    \"body\": \"magnam molestiae perferendis quisquam\\nqui cum reiciendis\\nquaerat animi amet hic inventore\\nea quia deleniti quidem saepe porro velit\"\n",
            "  },\n",
            "  {\n",
            "    \"userId\": 7,\n",
            "    \"id\": 69,\n",
            "    \"title\": \"fugiat quod pariatur odit minima\",\n",
            "    \"body\": \"officiis error culpa consequatur modi asperiores et\\ndolorum assumenda voluptas et vel qui aut vel rerum\\nvoluptatum quisquam perspiciatis quia rerum consequatur totam quas\\nsequi commodi repudiandae asperiores et saepe a\"\n",
            "  },\n",
            "  {\n",
            "    \"userId\": 7,\n",
            "    \"id\": 70,\n",
            "    \"title\": \"voluptatem laborum magni\",\n",
            "    \"body\": \"sunt repellendus quae\\nest asperiores aut deleniti esse accusamus repellendus quia aut\\nquia dolorem unde\\neum tempora esse dolore\"\n",
            "  },\n",
            "  {\n",
            "    \"userId\": 8,\n",
            "    \"id\": 71,\n",
            "    \"title\": \"et iusto veniam et illum aut fuga\",\n",
            "    \"body\": \"occaecati a doloribus\\niste saepe consectetur placeat eum voluptate dolorem et\\nqui quo quia voluptas\\nrerum ut id enim velit est perferendis\"\n",
            "  },\n",
            "  {\n",
            "    \"userId\": 8,\n",
            "    \"id\": 72,\n",
            "    \"title\": \"sint hic doloribus consequatur eos non id\",\n",
            "    \"body\": \"quam occaecati qui deleniti consectetur\\nconsequatur aut facere quas exercitationem aliquam hic voluptas\\nneque id sunt ut aut accusamus\\nsunt consectetur expedita inventore velit\"\n",
            "  },\n",
            "  {\n",
            "    \"userId\": 8,\n",
            "    \"id\": 73,\n",
            "    \"title\": \"consequuntur deleniti eos quia temporibus ab aliquid at\",\n",
            "    \"body\": \"voluptatem cumque tenetur consequatur expedita ipsum nemo quia explicabo\\naut eum minima consequatur\\ntempore cumque quae est et\\net in consequuntur voluptatem voluptates aut\"\n",
            "  },\n",
            "  {\n",
            "    \"userId\": 8,\n",
            "    \"id\": 74,\n",
            "    \"title\": \"enim unde ratione doloribus quas enim ut sit sapiente\",\n",
            "    \"body\": \"odit qui et et necessitatibus sint veniam\\nmollitia amet doloremque molestiae commodi similique magnam et quam\\nblanditiis est itaque\\nquo et tenetur ratione occaecati molestiae tempora\"\n",
            "  },\n",
            "  {\n",
            "    \"userId\": 8,\n",
            "    \"id\": 75,\n",
            "    \"title\": \"dignissimos eum dolor ut enim et delectus in\",\n",
            "    \"body\": \"commodi non non omnis et voluptas sit\\nautem aut nobis magnam et sapiente voluptatem\\net laborum repellat qui delectus facilis temporibus\\nrerum amet et nemo voluptate expedita adipisci error dolorem\"\n",
            "  },\n",
            "  {\n",
            "    \"userId\": 8,\n",
            "    \"id\": 76,\n",
            "    \"title\": \"doloremque officiis ad et non perferendis\",\n",
            "    \"body\": \"ut animi facere\\ntotam iusto tempore\\nmolestiae eum aut et dolorem aperiam\\nquaerat recusandae totam odio\"\n",
            "  },\n",
            "  {\n",
            "    \"userId\": 8,\n",
            "    \"id\": 77,\n",
            "    \"title\": \"necessitatibus quasi exercitationem odio\",\n",
            "    \"body\": \"modi ut in nulla repudiandae dolorum nostrum eos\\naut consequatur omnis\\nut incidunt est omnis iste et quam\\nvoluptates sapiente aliquam asperiores nobis amet corrupti repudiandae provident\"\n",
            "  },\n",
            "  {\n",
            "    \"userId\": 8,\n",
            "    \"id\": 78,\n",
            "    \"title\": \"quam voluptatibus rerum veritatis\",\n",
            "    \"body\": \"nobis facilis odit tempore cupiditate quia\\nassumenda doloribus rerum qui ea\\nillum et qui totam\\naut veniam repellendus\"\n",
            "  },\n",
            "  {\n",
            "    \"userId\": 8,\n",
            "    \"id\": 79,\n",
            "    \"title\": \"pariatur consequatur quia magnam autem omnis non amet\",\n",
            "    \"body\": \"libero accusantium et et facere incidunt sit dolorem\\nnon excepturi qui quia sed laudantium\\nquisquam molestiae ducimus est\\nofficiis esse molestiae iste et quos\"\n",
            "  },\n",
            "  {\n",
            "    \"userId\": 8,\n",
            "    \"id\": 80,\n",
            "    \"title\": \"labore in ex et explicabo corporis aut quas\",\n",
            "    \"body\": \"ex quod dolorem ea eum iure qui provident amet\\nquia qui facere excepturi et repudiandae\\nasperiores molestias provident\\nminus incidunt vero fugit rerum sint sunt excepturi provident\"\n",
            "  },\n",
            "  {\n",
            "    \"userId\": 9,\n",
            "    \"id\": 81,\n",
            "    \"title\": \"tempora rem veritatis voluptas quo dolores vero\",\n",
            "    \"body\": \"facere qui nesciunt est voluptatum voluptatem nisi\\nsequi eligendi necessitatibus ea at rerum itaque\\nharum non ratione velit laboriosam quis consequuntur\\nex officiis minima doloremque voluptas ut aut\"\n",
            "  },\n",
            "  {\n",
            "    \"userId\": 9,\n",
            "    \"id\": 82,\n",
            "    \"title\": \"laudantium voluptate suscipit sunt enim enim\",\n",
            "    \"body\": \"ut libero sit aut totam inventore sunt\\nporro sint qui sunt molestiae\\nconsequatur cupiditate qui iste ducimus adipisci\\ndolor enim assumenda soluta laboriosam amet iste delectus hic\"\n",
            "  },\n",
            "  {\n",
            "    \"userId\": 9,\n",
            "    \"id\": 83,\n",
            "    \"title\": \"odit et voluptates doloribus alias odio et\",\n",
            "    \"body\": \"est molestiae facilis quis tempora numquam nihil qui\\nvoluptate sapiente consequatur est qui\\nnecessitatibus autem aut ipsa aperiam modi dolore numquam\\nreprehenderit eius rem quibusdam\"\n",
            "  },\n",
            "  {\n",
            "    \"userId\": 9,\n",
            "    \"id\": 84,\n",
            "    \"title\": \"optio ipsam molestias necessitatibus occaecati facilis veritatis dolores aut\",\n",
            "    \"body\": \"sint molestiae magni a et quos\\neaque et quasi\\nut rerum debitis similique veniam\\nrecusandae dignissimos dolor incidunt consequatur odio\"\n",
            "  },\n",
            "  {\n",
            "    \"userId\": 9,\n",
            "    \"id\": 85,\n",
            "    \"title\": \"dolore veritatis porro provident adipisci blanditiis et sunt\",\n",
            "    \"body\": \"similique sed nisi voluptas iusto omnis\\nmollitia et quo\\nassumenda suscipit officia magnam sint sed tempora\\nenim provident pariatur praesentium atque animi amet ratione\"\n",
            "  },\n",
            "  {\n",
            "    \"userId\": 9,\n",
            "    \"id\": 86,\n",
            "    \"title\": \"placeat quia et porro iste\",\n",
            "    \"body\": \"quasi excepturi consequatur iste autem temporibus sed molestiae beatae\\net quaerat et esse ut\\nvoluptatem occaecati et vel explicabo autem\\nasperiores pariatur deserunt optio\"\n",
            "  },\n",
            "  {\n",
            "    \"userId\": 9,\n",
            "    \"id\": 87,\n",
            "    \"title\": \"nostrum quis quasi placeat\",\n",
            "    \"body\": \"eos et molestiae\\nnesciunt ut a\\ndolores perspiciatis repellendus repellat aliquid\\nmagnam sint rem ipsum est\"\n",
            "  },\n",
            "  {\n",
            "    \"userId\": 9,\n",
            "    \"id\": 88,\n",
            "    \"title\": \"sapiente omnis fugit eos\",\n",
            "    \"body\": \"consequatur omnis est praesentium\\nducimus non iste\\nneque hic deserunt\\nvoluptatibus veniam cum et rerum sed\"\n",
            "  },\n",
            "  {\n",
            "    \"userId\": 9,\n",
            "    \"id\": 89,\n",
            "    \"title\": \"sint soluta et vel magnam aut ut sed qui\",\n",
            "    \"body\": \"repellat aut aperiam totam temporibus autem et\\narchitecto magnam ut\\nconsequatur qui cupiditate rerum quia soluta dignissimos nihil iure\\ntempore quas est\"\n",
            "  },\n",
            "  {\n",
            "    \"userId\": 9,\n",
            "    \"id\": 90,\n",
            "    \"title\": \"ad iusto omnis odit dolor voluptatibus\",\n",
            "    \"body\": \"minus omnis soluta quia\\nqui sed adipisci voluptates illum ipsam voluptatem\\neligendi officia ut in\\neos soluta similique molestias praesentium blanditiis\"\n",
            "  },\n",
            "  {\n",
            "    \"userId\": 10,\n",
            "    \"id\": 91,\n",
            "    \"title\": \"aut amet sed\",\n",
            "    \"body\": \"libero voluptate eveniet aperiam sed\\nsunt placeat suscipit molestias\\nsimilique fugit nam natus\\nexpedita consequatur consequatur dolores quia eos et placeat\"\n",
            "  },\n",
            "  {\n",
            "    \"userId\": 10,\n",
            "    \"id\": 92,\n",
            "    \"title\": \"ratione ex tenetur perferendis\",\n",
            "    \"body\": \"aut et excepturi dicta laudantium sint rerum nihil\\nlaudantium et at\\na neque minima officia et similique libero et\\ncommodi voluptate qui\"\n",
            "  },\n",
            "  {\n",
            "    \"userId\": 10,\n",
            "    \"id\": 93,\n",
            "    \"title\": \"beatae soluta recusandae\",\n",
            "    \"body\": \"dolorem quibusdam ducimus consequuntur dicta aut quo laboriosam\\nvoluptatem quis enim recusandae ut sed sunt\\nnostrum est odit totam\\nsit error sed sunt eveniet provident qui nulla\"\n",
            "  },\n",
            "  {\n",
            "    \"userId\": 10,\n",
            "    \"id\": 94,\n",
            "    \"title\": \"qui qui voluptates illo iste minima\",\n",
            "    \"body\": \"aspernatur expedita soluta quo ab ut similique\\nexpedita dolores amet\\nsed temporibus distinctio magnam saepe deleniti\\nomnis facilis nam ipsum natus sint similique omnis\"\n",
            "  },\n",
            "  {\n",
            "    \"userId\": 10,\n",
            "    \"id\": 95,\n",
            "    \"title\": \"id minus libero illum nam ad officiis\",\n",
            "    \"body\": \"earum voluptatem facere provident blanditiis velit laboriosam\\npariatur accusamus odio saepe\\ncumque dolor qui a dicta ab doloribus consequatur omnis\\ncorporis cupiditate eaque assumenda ad nesciunt\"\n",
            "  },\n",
            "  {\n",
            "    \"userId\": 10,\n",
            "    \"id\": 96,\n",
            "    \"title\": \"quaerat velit veniam amet cupiditate aut numquam ut sequi\",\n",
            "    \"body\": \"in non odio excepturi sint eum\\nlabore voluptates vitae quia qui et\\ninventore itaque rerum\\nveniam non exercitationem delectus aut\"\n",
            "  },\n",
            "  {\n",
            "    \"userId\": 10,\n",
            "    \"id\": 97,\n",
            "    \"title\": \"quas fugiat ut perspiciatis vero provident\",\n",
            "    \"body\": \"eum non blanditiis soluta porro quibusdam voluptas\\nvel voluptatem qui placeat dolores qui velit aut\\nvel inventore aut cumque culpa explicabo aliquid at\\nperspiciatis est et voluptatem dignissimos dolor itaque sit nam\"\n",
            "  },\n",
            "  {\n",
            "    \"userId\": 10,\n",
            "    \"id\": 98,\n",
            "    \"title\": \"laboriosam dolor voluptates\",\n",
            "    \"body\": \"doloremque ex facilis sit sint culpa\\nsoluta assumenda eligendi non ut eius\\nsequi ducimus vel quasi\\nveritatis est dolores\"\n",
            "  },\n",
            "  {\n",
            "    \"userId\": 10,\n",
            "    \"id\": 99,\n",
            "    \"title\": \"temporibus sit alias delectus eligendi possimus magni\",\n",
            "    \"body\": \"quo deleniti praesentium dicta non quod\\naut est molestias\\nmolestias et officia quis nihil\\nitaque dolorem quia\"\n",
            "  },\n",
            "  {\n",
            "    \"userId\": 10,\n",
            "    \"id\": 100,\n",
            "    \"title\": \"at nam consequatur ea labore ea harum\",\n",
            "    \"body\": \"cupiditate quo est a modi nesciunt soluta\\nipsa voluptas error itaque dicta in\\nautem qui minus magnam et distinctio eum\\naccusamus ratione error aut\"\n",
            "  }\n",
            "]\n"
          ]
        }
      ]
    },
    {
      "cell_type": "code",
      "metadata": {
        "colab": {
          "base_uri": "https://localhost:8080/"
        },
        "id": "_VMcNMMWm-HO",
        "outputId": "ca45a4c5-fd02-4c26-cc55-6cc1a696efd2"
      },
      "source": [
        "#add parameters in get message\n",
        "http = urllib3.PoolManager()\n",
        "\n",
        "response = http.request(\"GET\",\n",
        "                        \"http://jsonplaceholder.typicode.com/posts/\",\n",
        "                        fields={\"id\": \"1\"})\n",
        "\n",
        "print(response.data.decode(\"utf-8\"))"
      ],
      "execution_count": null,
      "outputs": [
        {
          "name": "stdout",
          "output_type": "stream",
          "text": [
            "[\n",
            "  {\n",
            "    \"userId\": 1,\n",
            "    \"id\": 1,\n",
            "    \"title\": \"sunt aut facere repellat provident occaecati excepturi optio reprehenderit\",\n",
            "    \"body\": \"quia et suscipit\\nsuscipit recusandae consequuntur expedita et cum\\nreprehenderit molestiae ut ut quas totam\\nnostrum rerum est autem sunt rem eveniet architecto\"\n",
            "  }\n",
            "]\n"
          ]
        }
      ]
    },
    {
      "cell_type": "code",
      "metadata": {
        "colab": {
          "base_uri": "https://localhost:8080/"
        },
        "id": "OPxYW6skmGjg",
        "outputId": "20125f86-4e21-4444-e851-9127bd8e6967"
      },
      "source": [
        "#post method\n",
        "response = http.request(\"POST\", \"http://jsonplaceholder.typicode.com/posts\", fields={\"title\": \"Created Post\", \"body\": \"Lorem ipsum\", \"userId\": 5})\n",
        "\n",
        "print(response.data.decode(\"utf-8\"))"
      ],
      "execution_count": null,
      "outputs": [
        {
          "name": "stdout",
          "output_type": "stream",
          "text": [
            "{\n",
            "  \"id\": 101\n",
            "}\n"
          ]
        }
      ]
    },
    {
      "cell_type": "code",
      "metadata": {
        "colab": {
          "base_uri": "https://localhost:8080/"
        },
        "id": "dtO9e4L9nhNj",
        "outputId": "697fedf6-3e20-4532-8654-ed699326a532"
      },
      "source": [
        "for i in range(1, 5):\n",
        "    response = http.request(\"DELETE\", \"http://jsonplaceholder.typicode.com/posts\", fields={\"id\": i})\n",
        "    print(response.data.decode(\"utf-8\"))"
      ],
      "execution_count": null,
      "outputs": [
        {
          "name": "stdout",
          "output_type": "stream",
          "text": [
            "{}\n",
            "{}\n",
            "{}\n",
            "{}\n"
          ]
        }
      ]
    },
    {
      "cell_type": "code",
      "metadata": {
        "colab": {
          "base_uri": "https://localhost:8080/",
          "height": 229
        },
        "id": "WWa1YD_7nmxw",
        "outputId": "b43659b5-3aef-4637-b10f-81058cc88cd1"
      },
      "source": [
        "#patch\n",
        "data = {\n",
        "    'title': 'Updated title',\n",
        "    'body': 'Updated body'\n",
        "}\n",
        "\n",
        "http = urllib3.PoolManager()\n",
        "\n",
        "response = http.request(\"GET\", \"http://jsonplaceholder.typicode.com/posts/1\")\n",
        "print(response.data.decode('utf-8'))\n",
        "\n",
        "response = http.request(\"PATCH\", \"https://jsonplaceholder.typicode.com/posts/1\", fields=data)\n",
        "print(response.data.decode('utf-8'))"
      ],
      "execution_count": null,
      "outputs": [
        {
          "ename": "NameError",
          "evalue": "ignored",
          "output_type": "error",
          "traceback": [
            "\u001b[0;31m---------------------------------------------------------------------------\u001b[0m",
            "\u001b[0;31mNameError\u001b[0m                                 Traceback (most recent call last)",
            "\u001b[0;32m<ipython-input-1-3685c26a1305>\u001b[0m in \u001b[0;36m<module>\u001b[0;34m()\u001b[0m\n\u001b[1;32m      5\u001b[0m }\n\u001b[1;32m      6\u001b[0m \u001b[0;34m\u001b[0m\u001b[0m\n\u001b[0;32m----> 7\u001b[0;31m \u001b[0mhttp\u001b[0m \u001b[0;34m=\u001b[0m \u001b[0murllib3\u001b[0m\u001b[0;34m.\u001b[0m\u001b[0mPoolManager\u001b[0m\u001b[0;34m(\u001b[0m\u001b[0;34m)\u001b[0m\u001b[0;34m\u001b[0m\u001b[0;34m\u001b[0m\u001b[0m\n\u001b[0m\u001b[1;32m      8\u001b[0m \u001b[0;34m\u001b[0m\u001b[0m\n\u001b[1;32m      9\u001b[0m \u001b[0mresponse\u001b[0m \u001b[0;34m=\u001b[0m \u001b[0mhttp\u001b[0m\u001b[0;34m.\u001b[0m\u001b[0mrequest\u001b[0m\u001b[0;34m(\u001b[0m\u001b[0;34m\"GET\"\u001b[0m\u001b[0;34m,\u001b[0m \u001b[0;34m\"http://jsonplaceholder.typicode.com/posts/1\"\u001b[0m\u001b[0;34m)\u001b[0m\u001b[0;34m\u001b[0m\u001b[0;34m\u001b[0m\u001b[0m\n",
            "\u001b[0;31mNameError\u001b[0m: name 'urllib3' is not defined"
          ]
        }
      ]
    },
    {
      "cell_type": "markdown",
      "metadata": {
        "id": "5MmxwTGTnzXG"
      },
      "source": [
        "Send Secure HTTPS Requests in Python with urllib3\n",
        "The urllib3 module also provides client-side SSL verification for secure HTTP connections. We can achieve this with the help of another module, called certifi, which provides the standard Mozilla certificate bundle\n",
        "\n",
        "With certifi.where(), we reference the installed Certificate Authority (CA). This is an entity that issues digital certificates, which can be trusted. All these trusted certificates are contained in the certifi module"
      ]
    },
    {
      "cell_type": "code",
      "metadata": {
        "colab": {
          "base_uri": "https://localhost:8080/"
        },
        "id": "crtTIYfRn0WE",
        "outputId": "6d8453cf-e8fe-46d3-97dd-63ec0def8238"
      },
      "source": [
        "!pip install certifi\n"
      ],
      "execution_count": null,
      "outputs": [
        {
          "name": "stdout",
          "output_type": "stream",
          "text": [
            "Requirement already satisfied: certifi in /usr/local/lib/python3.7/dist-packages (2021.5.30)\n"
          ]
        }
      ]
    },
    {
      "cell_type": "code",
      "metadata": {
        "colab": {
          "base_uri": "https://localhost:8080/"
        },
        "id": "ptj73eQfn43T",
        "outputId": "5a634a51-6cd1-4706-9765-e76850d88383"
      },
      "source": [
        "import certifi\n",
        "\n",
        "http = urllib3.PoolManager(ca_certs=certifi.where())\n",
        "response = http.request(\"GET\", \"https://httpbin.org/get\")\n",
        "\n",
        "print(response.status)"
      ],
      "execution_count": null,
      "outputs": [
        {
          "name": "stdout",
          "output_type": "stream",
          "text": [
            "200\n"
          ]
        }
      ]
    },
    {
      "cell_type": "code",
      "source": [
        "p={'action':'query','format': 'json', 'titles': 'computer','prop': 'extracts', 'exintro': True,'explaintext': True,}\n",
        "r=requests.get('https://en.wikipedia.org/w/api.php',params=p)\n",
        "r=r.json()\n",
        "print(r['query']['pages'].values())\n",
        "for i in r['query']['pages'].values():\n",
        "  page = i\n",
        "  print(page['extract'])"
      ],
      "metadata": {
        "colab": {
          "base_uri": "https://localhost:8080/"
        },
        "id": "dPMrXc5xuwh3",
        "outputId": "ba2bfa10-2962-408a-fb93-d2d55bef577a"
      },
      "execution_count": null,
      "outputs": [
        {
          "output_type": "stream",
          "name": "stdout",
          "text": [
            "dict_values([{'pageid': 7878457, 'ns': 0, 'title': 'Computer', 'extract': 'A computer is a digital electronic machine that can be programmed to carry out sequences of arithmetic or logical operations (computation) automatically. Modern computers can perform generic sets of operations known as programs. These programs enable computers to perform a wide range of tasks. A computer system is a \"complete\" computer that includes the hardware, operating system (main software), and peripheral equipment needed and used for \"full\" operation. This term may also refer to a group of computers that are linked and function together, such as a computer network or computer cluster.\\nA broad range of industrial and consumer products use computers as control systems. Simple special-purpose devices like microwave ovens and remote controls are included, as are factory devices like industrial robots and computer-aided design, as well as general-purpose devices like personal computers and mobile devices like smartphones. Computers power the Internet, which links billions of other computers and users.\\nEarly computers were meant to be used only for calculations. Simple manual instruments like the abacus have aided people in doing calculations since ancient times. Early in the Industrial Revolution, some mechanical devices were built to automate long tedious tasks, such as guiding patterns for looms. More sophisticated electrical machines did specialized analog calculations in the early 20th century. The first digital electronic calculating machines were developed during World War II. The first semiconductor transistors in the late 1940s were followed by the silicon-based MOSFET (MOS transistor) and monolithic integrated circuit (IC) chip technologies in the late 1950s, leading to the microprocessor and the microcomputer revolution in the 1970s. The speed, power and versatility of computers have been increasing dramatically ever since then, with transistor counts increasing at a rapid pace (as predicted by Moore\\'s law), leading to the Digital Revolution during the late 20th to early 21st centuries.\\nConventionally, a modern computer consists of at least one processing element, typically a central processing unit (CPU) in the form of a microprocessor, along with some type of computer memory, typically semiconductor memory chips. The processing element carries out arithmetic and logical operations, and a sequencing and control unit can change the order of operations in response to stored information. Peripheral devices include input devices (keyboards, mice, joystick, etc.), output devices (monitor screens, printers, etc.), and input/output devices that perform both functions (e.g., the 2000s-era touchscreen). Peripheral devices allow information to be retrieved from an external source and they enable the result of operations to be saved and retrieved.'}])\n",
            "A computer is a digital electronic machine that can be programmed to carry out sequences of arithmetic or logical operations (computation) automatically. Modern computers can perform generic sets of operations known as programs. These programs enable computers to perform a wide range of tasks. A computer system is a \"complete\" computer that includes the hardware, operating system (main software), and peripheral equipment needed and used for \"full\" operation. This term may also refer to a group of computers that are linked and function together, such as a computer network or computer cluster.\n",
            "A broad range of industrial and consumer products use computers as control systems. Simple special-purpose devices like microwave ovens and remote controls are included, as are factory devices like industrial robots and computer-aided design, as well as general-purpose devices like personal computers and mobile devices like smartphones. Computers power the Internet, which links billions of other computers and users.\n",
            "Early computers were meant to be used only for calculations. Simple manual instruments like the abacus have aided people in doing calculations since ancient times. Early in the Industrial Revolution, some mechanical devices were built to automate long tedious tasks, such as guiding patterns for looms. More sophisticated electrical machines did specialized analog calculations in the early 20th century. The first digital electronic calculating machines were developed during World War II. The first semiconductor transistors in the late 1940s were followed by the silicon-based MOSFET (MOS transistor) and monolithic integrated circuit (IC) chip technologies in the late 1950s, leading to the microprocessor and the microcomputer revolution in the 1970s. The speed, power and versatility of computers have been increasing dramatically ever since then, with transistor counts increasing at a rapid pace (as predicted by Moore's law), leading to the Digital Revolution during the late 20th to early 21st centuries.\n",
            "Conventionally, a modern computer consists of at least one processing element, typically a central processing unit (CPU) in the form of a microprocessor, along with some type of computer memory, typically semiconductor memory chips. The processing element carries out arithmetic and logical operations, and a sequencing and control unit can change the order of operations in response to stored information. Peripheral devices include input devices (keyboards, mice, joystick, etc.), output devices (monitor screens, printers, etc.), and input/output devices that perform both functions (e.g., the 2000s-era touchscreen). Peripheral devices allow information to be retrieved from an external source and they enable the result of operations to be saved and retrieved.\n"
          ]
        }
      ]
    }
  ]
}